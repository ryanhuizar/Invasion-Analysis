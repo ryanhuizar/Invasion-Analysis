{
  "nbformat": 4,
  "nbformat_minor": 0,
  "metadata": {
    "colab": {
      "name": "EHOP016 Dose Curve.ipynb",
      "provenance": [],
      "authorship_tag": "ABX9TyOhhx+lsIQZ84aoW3blAegC",
      "include_colab_link": true
    },
    "kernelspec": {
      "name": "python3",
      "display_name": "Python 3"
    }
  },
  "cells": [
    {
      "cell_type": "markdown",
      "metadata": {
        "id": "view-in-github",
        "colab_type": "text"
      },
      "source": [
        "<a href=\"https://colab.research.google.com/github/ryanhuizar/Invasion-Analysis/blob/main/EHOP016_Dose_Curve.ipynb\" target=\"_parent\"><img src=\"https://colab.research.google.com/assets/colab-badge.svg\" alt=\"Open In Colab\"/></a>"
      ]
    },
    {
      "cell_type": "code",
      "metadata": {
        "id": "fvdM3zF3-lsp"
      },
      "source": [
        "#import libraries\n",
        "import numpy as np\n",
        "import pandas as pd\n",
        "import matplotlib.pyplot as plt\n",
        "import seaborn as sns\n"
      ],
      "execution_count": null,
      "outputs": []
    },
    {
      "cell_type": "code",
      "metadata": {
        "id": "4FDf6APo-pJG",
        "outputId": "302efdca-da69-4cc4-e2bf-b96e14a2dcda",
        "colab": {
          "resources": {
            "http://localhost:8080/nbextensions/google.colab/files.js": {
              "data": "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",
              "ok": true,
              "headers": [
                [
                  "content-type",
                  "application/javascript"
                ]
              ],
              "status": 200,
              "status_text": ""
            }
          },
          "base_uri": "https://localhost:8080/",
          "height": 477
        }
      },
      "source": [
        "#Load the data \n",
        "from google.colab import files \n",
        "uploaded = files.upload()\n",
        "\n",
        "df = pd.read_csv('Ehop016 Dose Curves_PyMT.csv')\n",
        "df.head(7) #give first 7 rows of data \n",
        "\n",
        "#Notes about data: \n",
        "#Replicate needs to be switched to categorical variable.\n",
        "#Several columns can be removed: special, file. \n",
        "#Need to make column to transform circularity into (1/circularity) \n"
      ],
      "execution_count": null,
      "outputs": [
        {
          "output_type": "display_data",
          "data": {
            "text/html": [
              "\n",
              "     <input type=\"file\" id=\"files-bff86a2f-34e4-4433-928e-195376eedc5d\" name=\"files[]\" multiple disabled\n",
              "        style=\"border:none\" />\n",
              "     <output id=\"result-bff86a2f-34e4-4433-928e-195376eedc5d\">\n",
              "      Upload widget is only available when the cell has been executed in the\n",
              "      current browser session. Please rerun this cell to enable.\n",
              "      </output>\n",
              "      <script src=\"/nbextensions/google.colab/files.js\"></script> "
            ],
            "text/plain": [
              "<IPython.core.display.HTML object>"
            ]
          },
          "metadata": {
            "tags": []
          }
        },
        {
          "output_type": "stream",
          "text": [
            "Saving Ehop016 Dose Curves_PyMT.csv to Ehop016 Dose Curves_PyMT.csv\n"
          ],
          "name": "stdout"
        },
        {
          "output_type": "execute_result",
          "data": {
            "text/html": [
              "<div>\n",
              "<style scoped>\n",
              "    .dataframe tbody tr th:only-of-type {\n",
              "        vertical-align: middle;\n",
              "    }\n",
              "\n",
              "    .dataframe tbody tr th {\n",
              "        vertical-align: top;\n",
              "    }\n",
              "\n",
              "    .dataframe thead th {\n",
              "        text-align: right;\n",
              "    }\n",
              "</style>\n",
              "<table border=\"1\" class=\"dataframe\">\n",
              "  <thead>\n",
              "    <tr style=\"text-align: right;\">\n",
              "      <th></th>\n",
              "      <th>Replicate</th>\n",
              "      <th>Date Imaged</th>\n",
              "      <th>Mouse_model</th>\n",
              "      <th>Matrix_comp</th>\n",
              "      <th>Dose (nM)</th>\n",
              "      <th>Organoid #</th>\n",
              "      <th>File</th>\n",
              "      <th>invasive_strands</th>\n",
              "      <th>peripheral_cells</th>\n",
              "      <th>Label</th>\n",
              "      <th>Area</th>\n",
              "      <th>Circularity</th>\n",
              "      <th>Unnamed: 12</th>\n",
              "      <th>Unnamed: 13</th>\n",
              "      <th>Unnamed: 14</th>\n",
              "    </tr>\n",
              "  </thead>\n",
              "  <tbody>\n",
              "    <tr>\n",
              "      <th>0</th>\n",
              "      <td>1</td>\n",
              "      <td>9/30/2020</td>\n",
              "      <td>C31TAg</td>\n",
              "      <td>collagen_3mg</td>\n",
              "      <td>5000</td>\n",
              "      <td>NaN</td>\n",
              "      <td>20200930_C31TAg_colI_3mg_Ehop016_5uM.czi</td>\n",
              "      <td>0</td>\n",
              "      <td>8</td>\n",
              "      <td>dead</td>\n",
              "      <td>36746.567</td>\n",
              "      <td>0.829</td>\n",
              "      <td>1.480</td>\n",
              "      <td>0.676</td>\n",
              "      <td>0.964</td>\n",
              "    </tr>\n",
              "    <tr>\n",
              "      <th>1</th>\n",
              "      <td>1</td>\n",
              "      <td>9/30/2020</td>\n",
              "      <td>C31TAg</td>\n",
              "      <td>collagen_3mg</td>\n",
              "      <td>5000</td>\n",
              "      <td>NaN</td>\n",
              "      <td>20200930_C31TAg_colI_3mg_Ehop016_5uM-02.czi</td>\n",
              "      <td>0</td>\n",
              "      <td>0</td>\n",
              "      <td>dead</td>\n",
              "      <td>56715.497</td>\n",
              "      <td>0.914</td>\n",
              "      <td>1.092</td>\n",
              "      <td>0.916</td>\n",
              "      <td>0.979</td>\n",
              "    </tr>\n",
              "    <tr>\n",
              "      <th>2</th>\n",
              "      <td>1</td>\n",
              "      <td>9/30/2020</td>\n",
              "      <td>C31TAg</td>\n",
              "      <td>collagen_3mg</td>\n",
              "      <td>5000</td>\n",
              "      <td>NaN</td>\n",
              "      <td>20200930_C31TAg_colI_3mg_Ehop016_5uM-03.czi</td>\n",
              "      <td>0</td>\n",
              "      <td>0</td>\n",
              "      <td>dead</td>\n",
              "      <td>27155.989</td>\n",
              "      <td>0.804</td>\n",
              "      <td>1.496</td>\n",
              "      <td>0.669</td>\n",
              "      <td>0.958</td>\n",
              "    </tr>\n",
              "    <tr>\n",
              "      <th>3</th>\n",
              "      <td>1</td>\n",
              "      <td>9/30/2020</td>\n",
              "      <td>C31TAg</td>\n",
              "      <td>collagen_3mg</td>\n",
              "      <td>5000</td>\n",
              "      <td>NaN</td>\n",
              "      <td>20200930_C31TAg_colI_3mg_Ehop016_5uM-04.czi</td>\n",
              "      <td>0</td>\n",
              "      <td>0</td>\n",
              "      <td>dead</td>\n",
              "      <td>59114.069</td>\n",
              "      <td>0.835</td>\n",
              "      <td>1.345</td>\n",
              "      <td>0.743</td>\n",
              "      <td>0.966</td>\n",
              "    </tr>\n",
              "    <tr>\n",
              "      <th>4</th>\n",
              "      <td>1</td>\n",
              "      <td>9/30/2020</td>\n",
              "      <td>C31TAg</td>\n",
              "      <td>collagen_3mg</td>\n",
              "      <td>5000</td>\n",
              "      <td>NaN</td>\n",
              "      <td>20200930_C31TAg_colI_3mg_Ehop016_5uM-05.czi</td>\n",
              "      <td>0</td>\n",
              "      <td>0</td>\n",
              "      <td>dead</td>\n",
              "      <td>21208.718</td>\n",
              "      <td>0.838</td>\n",
              "      <td>1.190</td>\n",
              "      <td>0.840</td>\n",
              "      <td>0.962</td>\n",
              "    </tr>\n",
              "    <tr>\n",
              "      <th>5</th>\n",
              "      <td>1</td>\n",
              "      <td>9/30/2020</td>\n",
              "      <td>C31TAg</td>\n",
              "      <td>collagen_3mg</td>\n",
              "      <td>5000</td>\n",
              "      <td>NaN</td>\n",
              "      <td>20200930_C31TAg_colI_3mg_Ehop016_5uM-06.czi</td>\n",
              "      <td>0</td>\n",
              "      <td>12</td>\n",
              "      <td>dead</td>\n",
              "      <td>124510.553</td>\n",
              "      <td>0.799</td>\n",
              "      <td>1.231</td>\n",
              "      <td>0.812</td>\n",
              "      <td>0.947</td>\n",
              "    </tr>\n",
              "    <tr>\n",
              "      <th>6</th>\n",
              "      <td>1</td>\n",
              "      <td>9/30/2020</td>\n",
              "      <td>C31TAg</td>\n",
              "      <td>collagen_3mg</td>\n",
              "      <td>5000</td>\n",
              "      <td>NaN</td>\n",
              "      <td>20200930_C31TAg_colI_3mg_Ehop016_5uM-07.czi</td>\n",
              "      <td>0</td>\n",
              "      <td>0</td>\n",
              "      <td>dead</td>\n",
              "      <td>41745.910</td>\n",
              "      <td>0.813</td>\n",
              "      <td>1.631</td>\n",
              "      <td>0.613</td>\n",
              "      <td>0.963</td>\n",
              "    </tr>\n",
              "  </tbody>\n",
              "</table>\n",
              "</div>"
            ],
            "text/plain": [
              "   Replicate Date Imaged Mouse_model  ... Unnamed: 12  Unnamed: 13  Unnamed: 14\n",
              "0          1   9/30/2020      C31TAg  ...       1.480        0.676        0.964\n",
              "1          1   9/30/2020      C31TAg  ...       1.092        0.916        0.979\n",
              "2          1   9/30/2020      C31TAg  ...       1.496        0.669        0.958\n",
              "3          1   9/30/2020      C31TAg  ...       1.345        0.743        0.966\n",
              "4          1   9/30/2020      C31TAg  ...       1.190        0.840        0.962\n",
              "5          1   9/30/2020      C31TAg  ...       1.231        0.812        0.947\n",
              "6          1   9/30/2020      C31TAg  ...       1.631        0.613        0.963\n",
              "\n",
              "[7 rows x 15 columns]"
            ]
          },
          "metadata": {
            "tags": []
          },
          "execution_count": 2
        }
      ]
    },
    {
      "cell_type": "code",
      "metadata": {
        "id": "X9pVdW0K_Efi",
        "outputId": "04696f2a-15ad-4927-ee36-ca071ae87099",
        "colab": {
          "base_uri": "https://localhost:8080/"
        }
      },
      "source": [
        "print('the shape of the data is ', df.shape) #400 entries, 15 columns. \n",
        "print(df.isna().sum()) #number of NaN values for each column"
      ],
      "execution_count": null,
      "outputs": [
        {
          "output_type": "stream",
          "text": [
            "the shape of the data is  (94, 15)\n",
            "Replicate            0\n",
            "Date Imaged          0\n",
            "Mouse_model          0\n",
            "Matrix_comp          0\n",
            "Dose (nM)            0\n",
            "Organoid #          94\n",
            "File                 0\n",
            "invasive_strands     0\n",
            "peripheral_cells     0\n",
            "Label                0\n",
            "Area                 0\n",
            "Circularity          0\n",
            "Unnamed: 12          0\n",
            "Unnamed: 13          0\n",
            "Unnamed: 14          0\n",
            "dtype: int64\n"
          ],
          "name": "stdout"
        }
      ]
    },
    {
      "cell_type": "code",
      "metadata": {
        "id": "ygFgCPjxAhTL",
        "outputId": "e7ccf393-acea-4474-887a-07fa355775be",
        "colab": {
          "base_uri": "https://localhost:8080/"
        }
      },
      "source": [
        "#change data type of Replicate, Organoid # to categorical \n",
        "\n",
        "df['Replicate'] = df.loc[:, 'Replicate'].astype('category')\n",
        "df['Organoid #'] = df.loc[:, 'Organoid #'].astype('category')\n",
        "df['Dose (nM)'] = df.loc[:, 'Dose (nM)'].astype('category') #Note: SettingWithCopyWarning is not an Error\n",
        "print(df.dtypes) "
      ],
      "execution_count": null,
      "outputs": [
        {
          "output_type": "stream",
          "text": [
            "Replicate              category\n",
            "Date Imaged              object\n",
            "Mouse_model              object\n",
            "Matrix_comp              object\n",
            "Dose (nM)              category\n",
            "Organoid #             category\n",
            "File                     object\n",
            "invasive_strands          int64\n",
            "peripheral_cells          int64\n",
            "Label                    object\n",
            "Area                    float64\n",
            "Circularity             float64\n",
            "Unnamed: 12             float64\n",
            "Unnamed: 13             float64\n",
            "Unnamed: 14             float64\n",
            "inverse_circularity     float64\n",
            "dtype: object\n"
          ],
          "name": "stdout"
        }
      ]
    },
    {
      "cell_type": "code",
      "metadata": {
        "id": "cX_2D5FfAy7n",
        "outputId": "28e3537a-bac5-47d0-ed76-53f6659b608c",
        "colab": {
          "base_uri": "https://localhost:8080/",
          "height": 309
        }
      },
      "source": [
        "#Calculate new column, inverse circularity\n",
        "df['inverse_circularity'] = (1/df['Circularity'])\n",
        "df.head()"
      ],
      "execution_count": null,
      "outputs": [
        {
          "output_type": "execute_result",
          "data": {
            "text/html": [
              "<div>\n",
              "<style scoped>\n",
              "    .dataframe tbody tr th:only-of-type {\n",
              "        vertical-align: middle;\n",
              "    }\n",
              "\n",
              "    .dataframe tbody tr th {\n",
              "        vertical-align: top;\n",
              "    }\n",
              "\n",
              "    .dataframe thead th {\n",
              "        text-align: right;\n",
              "    }\n",
              "</style>\n",
              "<table border=\"1\" class=\"dataframe\">\n",
              "  <thead>\n",
              "    <tr style=\"text-align: right;\">\n",
              "      <th></th>\n",
              "      <th>Replicate</th>\n",
              "      <th>Date Imaged</th>\n",
              "      <th>Mouse_model</th>\n",
              "      <th>Matrix_comp</th>\n",
              "      <th>Dose (nM)</th>\n",
              "      <th>Organoid #</th>\n",
              "      <th>File</th>\n",
              "      <th>invasive_strands</th>\n",
              "      <th>peripheral_cells</th>\n",
              "      <th>Label</th>\n",
              "      <th>Area</th>\n",
              "      <th>Circularity</th>\n",
              "      <th>Unnamed: 12</th>\n",
              "      <th>Unnamed: 13</th>\n",
              "      <th>Unnamed: 14</th>\n",
              "      <th>inverse_circularity</th>\n",
              "    </tr>\n",
              "  </thead>\n",
              "  <tbody>\n",
              "    <tr>\n",
              "      <th>0</th>\n",
              "      <td>1</td>\n",
              "      <td>9/30/2020</td>\n",
              "      <td>C31TAg</td>\n",
              "      <td>collagen_3mg</td>\n",
              "      <td>5000</td>\n",
              "      <td>NaN</td>\n",
              "      <td>20200930_C31TAg_colI_3mg_Ehop016_5uM.czi</td>\n",
              "      <td>0</td>\n",
              "      <td>8</td>\n",
              "      <td>dead</td>\n",
              "      <td>36746.567</td>\n",
              "      <td>0.829</td>\n",
              "      <td>1.480</td>\n",
              "      <td>0.676</td>\n",
              "      <td>0.964</td>\n",
              "      <td>1.206273</td>\n",
              "    </tr>\n",
              "    <tr>\n",
              "      <th>1</th>\n",
              "      <td>1</td>\n",
              "      <td>9/30/2020</td>\n",
              "      <td>C31TAg</td>\n",
              "      <td>collagen_3mg</td>\n",
              "      <td>5000</td>\n",
              "      <td>NaN</td>\n",
              "      <td>20200930_C31TAg_colI_3mg_Ehop016_5uM-02.czi</td>\n",
              "      <td>0</td>\n",
              "      <td>0</td>\n",
              "      <td>dead</td>\n",
              "      <td>56715.497</td>\n",
              "      <td>0.914</td>\n",
              "      <td>1.092</td>\n",
              "      <td>0.916</td>\n",
              "      <td>0.979</td>\n",
              "      <td>1.094092</td>\n",
              "    </tr>\n",
              "    <tr>\n",
              "      <th>2</th>\n",
              "      <td>1</td>\n",
              "      <td>9/30/2020</td>\n",
              "      <td>C31TAg</td>\n",
              "      <td>collagen_3mg</td>\n",
              "      <td>5000</td>\n",
              "      <td>NaN</td>\n",
              "      <td>20200930_C31TAg_colI_3mg_Ehop016_5uM-03.czi</td>\n",
              "      <td>0</td>\n",
              "      <td>0</td>\n",
              "      <td>dead</td>\n",
              "      <td>27155.989</td>\n",
              "      <td>0.804</td>\n",
              "      <td>1.496</td>\n",
              "      <td>0.669</td>\n",
              "      <td>0.958</td>\n",
              "      <td>1.243781</td>\n",
              "    </tr>\n",
              "    <tr>\n",
              "      <th>3</th>\n",
              "      <td>1</td>\n",
              "      <td>9/30/2020</td>\n",
              "      <td>C31TAg</td>\n",
              "      <td>collagen_3mg</td>\n",
              "      <td>5000</td>\n",
              "      <td>NaN</td>\n",
              "      <td>20200930_C31TAg_colI_3mg_Ehop016_5uM-04.czi</td>\n",
              "      <td>0</td>\n",
              "      <td>0</td>\n",
              "      <td>dead</td>\n",
              "      <td>59114.069</td>\n",
              "      <td>0.835</td>\n",
              "      <td>1.345</td>\n",
              "      <td>0.743</td>\n",
              "      <td>0.966</td>\n",
              "      <td>1.197605</td>\n",
              "    </tr>\n",
              "    <tr>\n",
              "      <th>4</th>\n",
              "      <td>1</td>\n",
              "      <td>9/30/2020</td>\n",
              "      <td>C31TAg</td>\n",
              "      <td>collagen_3mg</td>\n",
              "      <td>5000</td>\n",
              "      <td>NaN</td>\n",
              "      <td>20200930_C31TAg_colI_3mg_Ehop016_5uM-05.czi</td>\n",
              "      <td>0</td>\n",
              "      <td>0</td>\n",
              "      <td>dead</td>\n",
              "      <td>21208.718</td>\n",
              "      <td>0.838</td>\n",
              "      <td>1.190</td>\n",
              "      <td>0.840</td>\n",
              "      <td>0.962</td>\n",
              "      <td>1.193317</td>\n",
              "    </tr>\n",
              "  </tbody>\n",
              "</table>\n",
              "</div>"
            ],
            "text/plain": [
              "  Replicate Date Imaged  ... Unnamed: 14 inverse_circularity\n",
              "0         1   9/30/2020  ...       0.964            1.206273\n",
              "1         1   9/30/2020  ...       0.979            1.094092\n",
              "2         1   9/30/2020  ...       0.958            1.243781\n",
              "3         1   9/30/2020  ...       0.966            1.197605\n",
              "4         1   9/30/2020  ...       0.962            1.193317\n",
              "\n",
              "[5 rows x 16 columns]"
            ]
          },
          "metadata": {
            "tags": []
          },
          "execution_count": 10
        }
      ]
    },
    {
      "cell_type": "code",
      "metadata": {
        "id": "llSUaDo7A5Hz",
        "outputId": "d251cd22-f53f-4211-a5cf-03b9aa9711bb",
        "colab": {
          "base_uri": "https://localhost:8080/",
          "height": 447
        }
      },
      "source": [
        "#Plot distribution of invasive phenotypes among WT PyMT organoids\n",
        "wild_type = df[df['Dose (nM)'] == 0]\n",
        "wild_type.head(10)\n",
        "\n",
        "wt_label_plot = sns.countplot(wild_type['Label'], label = 'count')\n",
        "for i in wt_label_plot.get_xticklabels():\n",
        "  i.set_rotation(90)\n",
        "\n",
        "print(wt_label_plot) #Obviously need to go through and rename so columns are not misspelled:\n"
      ],
      "execution_count": null,
      "outputs": [
        {
          "output_type": "stream",
          "text": [
            "AxesSubplot(0.125,0.125;0.775x0.755)\n"
          ],
          "name": "stdout"
        },
        {
          "output_type": "stream",
          "text": [
            "/usr/local/lib/python3.6/dist-packages/seaborn/_decorators.py:43: FutureWarning: Pass the following variable as a keyword arg: x. From version 0.12, the only valid positional argument will be `data`, and passing other arguments without an explicit keyword will result in an error or misinterpretation.\n",
            "  FutureWarning\n"
          ],
          "name": "stderr"
        },
        {
          "output_type": "display_data",
          "data": {
            "image/png": "[encoded data removed]",
            "text/plain": [
              "<Figure size 432x288 with 1 Axes>"
            ]
          },
          "metadata": {
            "tags": [],
            "needs_background": "light"
          }
        }
      ]
    },
    {
      "cell_type": "code",
      "metadata": {
        "id": "CZ4uBtfOBzrI",
        "outputId": "ca3391a8-ae6b-4320-9664-5f7c53a98200",
        "colab": {
          "base_uri": "https://localhost:8080/",
          "height": 336
        }
      },
      "source": [
        "#Plot histogram of area of wt organoids sampled: \n",
        "Area_hist_wt = plt.hist(wild_type['Area'])\n",
        "\n",
        "print(Area_hist_wt)\n"
      ],
      "execution_count": null,
      "outputs": [
        {
          "output_type": "stream",
          "text": [
            "(array([3., 2., 4., 1., 1., 3., 0., 1., 0., 1.]), array([ 26750.353 ,  45989.8182,  65229.2834,  84468.7486, 103708.2138,\n",
            "       122947.679 , 142187.1442, 161426.6094, 180666.0746, 199905.5398,\n",
            "       219145.005 ]), <a list of 10 Patch objects>)\n"
          ],
          "name": "stdout"
        },
        {
          "output_type": "display_data",
          "data": {
            "image/png": "[encoded data removed]",
            "text/plain": [
              "<Figure size 432x288 with 1 Axes>"
            ]
          },
          "metadata": {
            "tags": [],
            "needs_background": "light"
          }
        }
      ]
    },
    {
      "cell_type": "code",
      "metadata": {
        "id": "8k3mDv4qCYPC",
        "outputId": "b21a9575-8e81-4b26-b7af-65ec83f2a4eb",
        "colab": {
          "base_uri": "https://localhost:8080/",
          "height": 710
        }
      },
      "source": [
        "#pairplot of variables in wt data: \n",
        "sns.pairplot(wild_type, \n",
        "             hue='Replicate', \n",
        "             vars=['invasive_strands', 'peripheral_cells', 'Area', 'inverse_circularity'])\n",
        "\n"
      ],
      "execution_count": null,
      "outputs": [
        {
          "output_type": "stream",
          "text": [
            "/usr/local/lib/python3.6/dist-packages/seaborn/distributions.py:305: UserWarning: Dataset has 0 variance; skipping density estimate.\n",
            "  warnings.warn(msg, UserWarning)\n"
          ],
          "name": "stderr"
        },
        {
          "output_type": "execute_result",
          "data": {
            "text/plain": [
              "<seaborn.axisgrid.PairGrid at 0x7f2965197d30>"
            ]
          },
          "metadata": {
            "tags": []
          },
          "execution_count": 25
        },
        {
          "output_type": "display_data",
          "data": {
            "image/png": "[encoded data removed]",
            "text/plain": [
              "<Figure size 774.125x720 with 20 Axes>"
            ]
          },
          "metadata": {
            "tags": [],
            "needs_background": "light"
          }
        }
      ]
    },
    {
      "cell_type": "code",
      "metadata": {
        "id": "Lpw3zVd6C3Dc",
        "outputId": "2481f84f-1d61-4a17-8cb9-ad72edb1b2b2",
        "colab": {
          "base_uri": "https://localhost:8080/",
          "height": 286
        }
      },
      "source": [
        "#Plot dose vs inverse circularity, dose vs area, dose vs. disseminated_cells, dose vs. invasive_strands\n",
        "\n",
        "#dose vs. area\n",
        "ehop_area_scatter = plt.scatter(df['Dose (nM)'], df['Area'])\n",
        "plt.xscale('symlog') #use symlog to avoid error for including negative number in x axis. \n",
        "plt.ylim(ymin=0)\n",
        "plt.xlim(xmin=-1)\n",
        "print(ehop_area_scatter) # Obviously this is not what we want -- need to convert dosage to categorical variable. "
      ],
      "execution_count": null,
      "outputs": [
        {
          "output_type": "stream",
          "text": [
            "<matplotlib.collections.PathCollection object at 0x7f2963325208>\n"
          ],
          "name": "stdout"
        },
        {
          "output_type": "display_data",
          "data": {
            "image/png": "[encoded data removed]",
            "text/plain": [
              "<Figure size 432x288 with 1 Axes>"
            ]
          },
          "metadata": {
            "tags": [],
            "needs_background": "light"
          }
        }
      ]
    },
    {
      "cell_type": "code",
      "metadata": {
        "id": "oFiVmWuuDgSS",
        "outputId": "53e4f1b5-7144-4a52-c276-68a67edf3ad6",
        "colab": {
          "base_uri": "https://localhost:8080/",
          "height": 312
        }
      },
      "source": [
        "#Create boxplot  for area vs dose curve. \n",
        "ehop_area_dose = sns.stripplot(x = 'Dose (nM)', y = 'Area', data = df, orient = 'v', color = 'black')\n",
        "sns.barplot(x = 'Dose (nM)', y = 'Area', data = df, orient = 'v', errcolor = 'gray')\n",
        "plt.title('Area vs EHOP016 Dose')\n",
        "plt.xlabel('EHOP016 Concentration (nM)')\n",
        "plt.ylabel('Area (um^2)')\n"
      ],
      "execution_count": null,
      "outputs": [
        {
          "output_type": "execute_result",
          "data": {
            "text/plain": [
              "Text(0, 0.5, 'Area (um^2)')"
            ]
          },
          "metadata": {
            "tags": []
          },
          "execution_count": 57
        },
        {
          "output_type": "display_data",
          "data": {
            "image/png": "[encoded data removed]",
            "text/plain": [
              "<Figure size 432x288 with 1 Axes>"
            ]
          },
          "metadata": {
            "tags": [],
            "needs_background": "light"
          }
        }
      ]
    },
    {
      "cell_type": "code",
      "metadata": {
        "id": "eBbDJrB2D3R-",
        "outputId": "b40f8da4-7316-4b11-cbaf-ef99bf7a5068",
        "colab": {
          "base_uri": "https://localhost:8080/",
          "height": 312
        }
      },
      "source": [
        "#Create boxplot for invasive_strands vs dose\n",
        "ehop_IS_dose = sns.stripplot(x = 'Dose (nM)', y = 'invasive_strands', data = df, orient = 'v', color = 'black')\n",
        "sns.barplot(x = 'Dose (nM)', y = 'invasive_strands', data = df, orient = 'v', errcolor = 'gray')\n",
        "plt.title('# Invasive Strands vs EHOP016 Dose')\n",
        "plt.xlabel('EHOP016 Concentration (nM)')\n",
        "plt.ylabel('Invasive Strands')"
      ],
      "execution_count": null,
      "outputs": [
        {
          "output_type": "execute_result",
          "data": {
            "text/plain": [
              "Text(0, 0.5, 'Invasive Strands')"
            ]
          },
          "metadata": {
            "tags": []
          },
          "execution_count": 58
        },
        {
          "output_type": "display_data",
          "data": {
            "image/png": "[encoded data removed]",
            "text/plain": [
              "<Figure size 432x288 with 1 Axes>"
            ]
          },
          "metadata": {
            "tags": [],
            "needs_background": "light"
          }
        }
      ]
    },
    {
      "cell_type": "code",
      "metadata": {
        "id": "6HYq68EnEGA2",
        "outputId": "b0084f74-2f2b-4810-fcf8-66686dc92da6",
        "colab": {
          "base_uri": "https://localhost:8080/",
          "height": 312
        }
      },
      "source": [
        "#Create plot for inverse circularity vs dose\n",
        "ehop_inverseCircularity_dose = sns.stripplot(x = 'Dose (nM)', y = 'inverse_circularity', data = df, orient = 'v', color = 'black')\n",
        "sns.barplot(x = 'Dose (nM)', y = 'inverse_circularity', data = df, orient = 'v')\n",
        "plt.title('Inverse Circularity vs EHOP016 Dose')\n",
        "plt.xlabel('EHOP016 Concentration (nM)')\n",
        "plt.ylabel('inverse circularity')"
      ],
      "execution_count": null,
      "outputs": [
        {
          "output_type": "execute_result",
          "data": {
            "text/plain": [
              "Text(0, 0.5, 'inverse circularity')"
            ]
          },
          "metadata": {
            "tags": []
          },
          "execution_count": 50
        },
        {
          "output_type": "display_data",
          "data": {
            "image/png": "[encoded data removed]",
            "text/plain": [
              "<Figure size 432x288 with 1 Axes>"
            ]
          },
          "metadata": {
            "tags": [],
            "needs_background": "light"
          }
        }
      ]
    },
    {
      "cell_type": "code",
      "metadata": {
        "id": "PnEICjOZEh_D",
        "outputId": "29bf0b28-6140-44aa-9cdb-98d8d6f8b70f",
        "colab": {
          "base_uri": "https://localhost:8080/",
          "height": 1000
        }
      },
      "source": [
        "#Calculation of percent dead grouped by dose and replicate\n",
        "ehop_dose_rep= df.groupby(['Dose (nM)', 'Label']).mean()\n",
        "ehop_dose_rep_count = df.groupby(['Dose (nM)', 'Label']).size().reset_index(name='counts')\n",
        "\n",
        "#append count column pi3k_dose_rep df\n",
        "ehop_dose_rep['count']=ehop_dose_rep_count['counts'].values\n",
        "\n",
        "#Calculate percentage of each\n",
        "#first, convert count to object\n",
        "#ehop_dose_rep['Dose'] = pi3k_dose_rep['Dose'].astype('object')\n",
        "ehop_dose_rep['pct'] = ehop_dose_rep['count']/ehop_dose_rep.groupby('Dose (nM)')['count'].sum()\n",
        "\n",
        "ehop_dose_rep.to_csv(\"ehop_dose_rep.csv\")\n",
        "\n",
        "files.download(\"ehop_dose_rep.csv\")\n",
        "\n",
        "ehop_dose_rep"
      ],
      "execution_count": null,
      "outputs": [
        {
          "output_type": "display_data",
          "data": {
            "application/javascript": [
              "\n",
              "    async function download(id, filename, size) {\n",
              "      if (!google.colab.kernel.accessAllowed) {\n",
              "        return;\n",
              "      }\n",
              "      const div = document.createElement('div');\n",
              "      const label = document.createElement('label');\n",
              "      label.textContent = `Downloading \"${filename}\": `;\n",
              "      div.appendChild(label);\n",
              "      const progress = document.createElement('progress');\n",
              "      progress.max = size;\n",
              "      div.appendChild(progress);\n",
              "      document.body.appendChild(div);\n",
              "\n",
              "      const buffers = [];\n",
              "      let downloaded = 0;\n",
              "\n",
              "      const channel = await google.colab.kernel.comms.open(id);\n",
              "      // Send a message to notify the kernel that we're ready.\n",
              "      channel.send({})\n",
              "\n",
              "      for await (const message of channel.messages) {\n",
              "        // Send a message to notify the kernel that we're ready.\n",
              "        channel.send({})\n",
              "        if (message.buffers) {\n",
              "          for (const buffer of message.buffers) {\n",
              "            buffers.push(buffer);\n",
              "            downloaded += buffer.byteLength;\n",
              "            progress.value = downloaded;\n",
              "          }\n",
              "        }\n",
              "      }\n",
              "      const blob = new Blob(buffers, {type: 'application/binary'});\n",
              "      const a = document.createElement('a');\n",
              "      a.href = window.URL.createObjectURL(blob);\n",
              "      a.download = filename;\n",
              "      div.appendChild(a);\n",
              "      a.click();\n",
              "      div.remove();\n",
              "    }\n",
              "  "
            ],
            "text/plain": [
              "<IPython.core.display.Javascript object>"
            ]
          },
          "metadata": {
            "tags": []
          }
        },
        {
          "output_type": "display_data",
          "data": {
            "application/javascript": [
              "download(\"download_c341a200-b5fa-4559-a6c3-f81efa244eeb\", \"ehop_dose_rep.csv\", 3153)"
            ],
            "text/plain": [
              "<IPython.core.display.Javascript object>"
            ]
          },
          "metadata": {
            "tags": []
          }
        },
        {
          "output_type": "execute_result",
          "data": {
            "text/html": [
              "<div>\n",
              "<style scoped>\n",
              "    .dataframe tbody tr th:only-of-type {\n",
              "        vertical-align: middle;\n",
              "    }\n",
              "\n",
              "    .dataframe tbody tr th {\n",
              "        vertical-align: top;\n",
              "    }\n",
              "\n",
              "    .dataframe thead th {\n",
              "        text-align: right;\n",
              "    }\n",
              "</style>\n",
              "<table border=\"1\" class=\"dataframe\">\n",
              "  <thead>\n",
              "    <tr style=\"text-align: right;\">\n",
              "      <th></th>\n",
              "      <th></th>\n",
              "      <th>invasive_strands</th>\n",
              "      <th>peripheral_cells</th>\n",
              "      <th>Area</th>\n",
              "      <th>Circularity</th>\n",
              "      <th>Unnamed: 12</th>\n",
              "      <th>Unnamed: 13</th>\n",
              "      <th>Unnamed: 14</th>\n",
              "      <th>inverse_circularity</th>\n",
              "      <th>count</th>\n",
              "      <th>pct</th>\n",
              "    </tr>\n",
              "    <tr>\n",
              "      <th>Dose (nM)</th>\n",
              "      <th>Label</th>\n",
              "      <th></th>\n",
              "      <th></th>\n",
              "      <th></th>\n",
              "      <th></th>\n",
              "      <th></th>\n",
              "      <th></th>\n",
              "      <th></th>\n",
              "      <th></th>\n",
              "      <th></th>\n",
              "      <th></th>\n",
              "    </tr>\n",
              "  </thead>\n",
              "  <tbody>\n",
              "    <tr>\n",
              "      <th rowspan=\"5\" valign=\"top\">0</th>\n",
              "      <th>dead</th>\n",
              "      <td>0.000000</td>\n",
              "      <td>0.000000</td>\n",
              "      <td>80257.654000</td>\n",
              "      <td>0.802333</td>\n",
              "      <td>1.533667</td>\n",
              "      <td>0.656000</td>\n",
              "      <td>0.952000</td>\n",
              "      <td>1.249007</td>\n",
              "      <td>3</td>\n",
              "      <td>0.187500</td>\n",
              "    </tr>\n",
              "    <tr>\n",
              "      <th>invasive_collective</th>\n",
              "      <td>4.777778</td>\n",
              "      <td>0.000000</td>\n",
              "      <td>101202.727111</td>\n",
              "      <td>0.387000</td>\n",
              "      <td>1.422000</td>\n",
              "      <td>0.730222</td>\n",
              "      <td>0.705222</td>\n",
              "      <td>3.915049</td>\n",
              "      <td>9</td>\n",
              "      <td>0.562500</td>\n",
              "    </tr>\n",
              "    <tr>\n",
              "      <th>invasive_proliferative</th>\n",
              "      <td>7.000000</td>\n",
              "      <td>0.000000</td>\n",
              "      <td>115554.710000</td>\n",
              "      <td>0.346500</td>\n",
              "      <td>1.698500</td>\n",
              "      <td>0.589000</td>\n",
              "      <td>0.728000</td>\n",
              "      <td>2.889185</td>\n",
              "      <td>2</td>\n",
              "      <td>0.125000</td>\n",
              "    </tr>\n",
              "    <tr>\n",
              "      <th>noninvasive</th>\n",
              "      <td>0.000000</td>\n",
              "      <td>0.000000</td>\n",
              "      <td>53440.726000</td>\n",
              "      <td>0.671000</td>\n",
              "      <td>1.169000</td>\n",
              "      <td>0.856000</td>\n",
              "      <td>0.918000</td>\n",
              "      <td>1.490313</td>\n",
              "      <td>1</td>\n",
              "      <td>0.062500</td>\n",
              "    </tr>\n",
              "    <tr>\n",
              "      <th>spreading</th>\n",
              "      <td>0.000000</td>\n",
              "      <td>0.000000</td>\n",
              "      <td>51425.942000</td>\n",
              "      <td>0.568000</td>\n",
              "      <td>1.423000</td>\n",
              "      <td>0.703000</td>\n",
              "      <td>0.852000</td>\n",
              "      <td>1.760563</td>\n",
              "      <td>1</td>\n",
              "      <td>0.062500</td>\n",
              "    </tr>\n",
              "    <tr>\n",
              "      <th rowspan=\"5\" valign=\"top\">100</th>\n",
              "      <th>dead</th>\n",
              "      <td>0.000000</td>\n",
              "      <td>0.000000</td>\n",
              "      <td>64439.282000</td>\n",
              "      <td>0.659000</td>\n",
              "      <td>2.094000</td>\n",
              "      <td>0.478000</td>\n",
              "      <td>0.923000</td>\n",
              "      <td>1.517451</td>\n",
              "      <td>1</td>\n",
              "      <td>0.066667</td>\n",
              "    </tr>\n",
              "    <tr>\n",
              "      <th>invasive_collective</th>\n",
              "      <td>5.166667</td>\n",
              "      <td>0.000000</td>\n",
              "      <td>56782.793833</td>\n",
              "      <td>0.285167</td>\n",
              "      <td>1.628333</td>\n",
              "      <td>0.712000</td>\n",
              "      <td>0.610833</td>\n",
              "      <td>3.960352</td>\n",
              "      <td>6</td>\n",
              "      <td>0.400000</td>\n",
              "    </tr>\n",
              "    <tr>\n",
              "      <th>invasive_proliferative</th>\n",
              "      <td>3.000000</td>\n",
              "      <td>0.000000</td>\n",
              "      <td>79506.877000</td>\n",
              "      <td>0.547000</td>\n",
              "      <td>1.678500</td>\n",
              "      <td>0.662000</td>\n",
              "      <td>0.818500</td>\n",
              "      <td>1.892681</td>\n",
              "      <td>2</td>\n",
              "      <td>0.133333</td>\n",
              "    </tr>\n",
              "    <tr>\n",
              "      <th>noninvasive</th>\n",
              "      <td>0.000000</td>\n",
              "      <td>0.000000</td>\n",
              "      <td>47264.940833</td>\n",
              "      <td>0.719167</td>\n",
              "      <td>1.531000</td>\n",
              "      <td>0.664833</td>\n",
              "      <td>0.920833</td>\n",
              "      <td>1.395814</td>\n",
              "      <td>6</td>\n",
              "      <td>0.400000</td>\n",
              "    </tr>\n",
              "    <tr>\n",
              "      <th>spreading</th>\n",
              "      <td>NaN</td>\n",
              "      <td>NaN</td>\n",
              "      <td>NaN</td>\n",
              "      <td>NaN</td>\n",
              "      <td>NaN</td>\n",
              "      <td>NaN</td>\n",
              "      <td>NaN</td>\n",
              "      <td>NaN</td>\n",
              "      <td>0</td>\n",
              "      <td>0.000000</td>\n",
              "    </tr>\n",
              "    <tr>\n",
              "      <th rowspan=\"5\" valign=\"top\">250</th>\n",
              "      <th>dead</th>\n",
              "      <td>0.000000</td>\n",
              "      <td>0.000000</td>\n",
              "      <td>45597.599500</td>\n",
              "      <td>0.761000</td>\n",
              "      <td>1.335000</td>\n",
              "      <td>0.749500</td>\n",
              "      <td>0.925000</td>\n",
              "      <td>1.315480</td>\n",
              "      <td>2</td>\n",
              "      <td>0.142857</td>\n",
              "    </tr>\n",
              "    <tr>\n",
              "      <th>invasive_collective</th>\n",
              "      <td>4.400000</td>\n",
              "      <td>1.400000</td>\n",
              "      <td>97061.632000</td>\n",
              "      <td>0.284200</td>\n",
              "      <td>1.992800</td>\n",
              "      <td>0.524400</td>\n",
              "      <td>0.608600</td>\n",
              "      <td>4.376400</td>\n",
              "      <td>5</td>\n",
              "      <td>0.357143</td>\n",
              "    </tr>\n",
              "    <tr>\n",
              "      <th>invasive_proliferative</th>\n",
              "      <td>4.000000</td>\n",
              "      <td>1.000000</td>\n",
              "      <td>33857.954000</td>\n",
              "      <td>0.500000</td>\n",
              "      <td>1.968500</td>\n",
              "      <td>0.528500</td>\n",
              "      <td>0.775500</td>\n",
              "      <td>2.020202</td>\n",
              "      <td>2</td>\n",
              "      <td>0.142857</td>\n",
              "    </tr>\n",
              "    <tr>\n",
              "      <th>noninvasive</th>\n",
              "      <td>0.000000</td>\n",
              "      <td>1.600000</td>\n",
              "      <td>35334.631000</td>\n",
              "      <td>0.725800</td>\n",
              "      <td>1.428800</td>\n",
              "      <td>0.748400</td>\n",
              "      <td>0.919800</td>\n",
              "      <td>1.399443</td>\n",
              "      <td>5</td>\n",
              "      <td>0.357143</td>\n",
              "    </tr>\n",
              "    <tr>\n",
              "      <th>spreading</th>\n",
              "      <td>NaN</td>\n",
              "      <td>NaN</td>\n",
              "      <td>NaN</td>\n",
              "      <td>NaN</td>\n",
              "      <td>NaN</td>\n",
              "      <td>NaN</td>\n",
              "      <td>NaN</td>\n",
              "      <td>NaN</td>\n",
              "      <td>0</td>\n",
              "      <td>0.000000</td>\n",
              "    </tr>\n",
              "    <tr>\n",
              "      <th rowspan=\"5\" valign=\"top\">500</th>\n",
              "      <th>dead</th>\n",
              "      <td>0.000000</td>\n",
              "      <td>1.333333</td>\n",
              "      <td>30943.370667</td>\n",
              "      <td>0.712333</td>\n",
              "      <td>1.411000</td>\n",
              "      <td>0.730333</td>\n",
              "      <td>0.913000</td>\n",
              "      <td>1.406049</td>\n",
              "      <td>3</td>\n",
              "      <td>0.272727</td>\n",
              "    </tr>\n",
              "    <tr>\n",
              "      <th>invasive_collective</th>\n",
              "      <td>2.800000</td>\n",
              "      <td>0.000000</td>\n",
              "      <td>44737.395400</td>\n",
              "      <td>0.364600</td>\n",
              "      <td>1.845400</td>\n",
              "      <td>0.579200</td>\n",
              "      <td>0.675400</td>\n",
              "      <td>3.090618</td>\n",
              "      <td>5</td>\n",
              "      <td>0.454545</td>\n",
              "    </tr>\n",
              "    <tr>\n",
              "      <th>invasive_proliferative</th>\n",
              "      <td>2.000000</td>\n",
              "      <td>0.000000</td>\n",
              "      <td>32363.098000</td>\n",
              "      <td>0.599000</td>\n",
              "      <td>1.977000</td>\n",
              "      <td>0.506000</td>\n",
              "      <td>0.882000</td>\n",
              "      <td>1.669449</td>\n",
              "      <td>1</td>\n",
              "      <td>0.090909</td>\n",
              "    </tr>\n",
              "    <tr>\n",
              "      <th>noninvasive</th>\n",
              "      <td>0.000000</td>\n",
              "      <td>0.000000</td>\n",
              "      <td>10635.585500</td>\n",
              "      <td>0.827500</td>\n",
              "      <td>1.423000</td>\n",
              "      <td>0.733500</td>\n",
              "      <td>0.966500</td>\n",
              "      <td>1.218603</td>\n",
              "      <td>2</td>\n",
              "      <td>0.181818</td>\n",
              "    </tr>\n",
              "    <tr>\n",
              "      <th>spreading</th>\n",
              "      <td>NaN</td>\n",
              "      <td>NaN</td>\n",
              "      <td>NaN</td>\n",
              "      <td>NaN</td>\n",
              "      <td>NaN</td>\n",
              "      <td>NaN</td>\n",
              "      <td>NaN</td>\n",
              "      <td>NaN</td>\n",
              "      <td>0</td>\n",
              "      <td>0.000000</td>\n",
              "    </tr>\n",
              "    <tr>\n",
              "      <th rowspan=\"5\" valign=\"top\">1000</th>\n",
              "      <th>dead</th>\n",
              "      <td>0.000000</td>\n",
              "      <td>0.000000</td>\n",
              "      <td>32788.892200</td>\n",
              "      <td>0.695200</td>\n",
              "      <td>1.528600</td>\n",
              "      <td>0.694600</td>\n",
              "      <td>0.931000</td>\n",
              "      <td>1.461699</td>\n",
              "      <td>10</td>\n",
              "      <td>0.769231</td>\n",
              "    </tr>\n",
              "    <tr>\n",
              "      <th>invasive_collective</th>\n",
              "      <td>NaN</td>\n",
              "      <td>NaN</td>\n",
              "      <td>NaN</td>\n",
              "      <td>NaN</td>\n",
              "      <td>NaN</td>\n",
              "      <td>NaN</td>\n",
              "      <td>NaN</td>\n",
              "      <td>NaN</td>\n",
              "      <td>0</td>\n",
              "      <td>0.000000</td>\n",
              "    </tr>\n",
              "    <tr>\n",
              "      <th>invasive_proliferative</th>\n",
              "      <td>NaN</td>\n",
              "      <td>NaN</td>\n",
              "      <td>NaN</td>\n",
              "      <td>NaN</td>\n",
              "      <td>NaN</td>\n",
              "      <td>NaN</td>\n",
              "      <td>NaN</td>\n",
              "      <td>NaN</td>\n",
              "      <td>0</td>\n",
              "      <td>0.000000</td>\n",
              "    </tr>\n",
              "    <tr>\n",
              "      <th>noninvasive</th>\n",
              "      <td>0.333333</td>\n",
              "      <td>0.000000</td>\n",
              "      <td>54866.636333</td>\n",
              "      <td>0.626000</td>\n",
              "      <td>2.017333</td>\n",
              "      <td>0.516333</td>\n",
              "      <td>0.885333</td>\n",
              "      <td>1.658340</td>\n",
              "      <td>3</td>\n",
              "      <td>0.230769</td>\n",
              "    </tr>\n",
              "    <tr>\n",
              "      <th>spreading</th>\n",
              "      <td>NaN</td>\n",
              "      <td>NaN</td>\n",
              "      <td>NaN</td>\n",
              "      <td>NaN</td>\n",
              "      <td>NaN</td>\n",
              "      <td>NaN</td>\n",
              "      <td>NaN</td>\n",
              "      <td>NaN</td>\n",
              "      <td>0</td>\n",
              "      <td>0.000000</td>\n",
              "    </tr>\n",
              "    <tr>\n",
              "      <th rowspan=\"5\" valign=\"top\">5000</th>\n",
              "      <th>dead</th>\n",
              "      <td>0.000000</td>\n",
              "      <td>5.791667</td>\n",
              "      <td>48260.936417</td>\n",
              "      <td>0.823208</td>\n",
              "      <td>1.349083</td>\n",
              "      <td>0.755875</td>\n",
              "      <td>0.960125</td>\n",
              "      <td>1.219689</td>\n",
              "      <td>24</td>\n",
              "      <td>0.960000</td>\n",
              "    </tr>\n",
              "    <tr>\n",
              "      <th>invasive_collective</th>\n",
              "      <td>NaN</td>\n",
              "      <td>NaN</td>\n",
              "      <td>NaN</td>\n",
              "      <td>NaN</td>\n",
              "      <td>NaN</td>\n",
              "      <td>NaN</td>\n",
              "      <td>NaN</td>\n",
              "      <td>NaN</td>\n",
              "      <td>0</td>\n",
              "      <td>0.000000</td>\n",
              "    </tr>\n",
              "    <tr>\n",
              "      <th>invasive_proliferative</th>\n",
              "      <td>NaN</td>\n",
              "      <td>NaN</td>\n",
              "      <td>NaN</td>\n",
              "      <td>NaN</td>\n",
              "      <td>NaN</td>\n",
              "      <td>NaN</td>\n",
              "      <td>NaN</td>\n",
              "      <td>NaN</td>\n",
              "      <td>0</td>\n",
              "      <td>0.000000</td>\n",
              "    </tr>\n",
              "    <tr>\n",
              "      <th>noninvasive</th>\n",
              "      <td>0.000000</td>\n",
              "      <td>29.000000</td>\n",
              "      <td>55262.791000</td>\n",
              "      <td>0.705000</td>\n",
              "      <td>1.813000</td>\n",
              "      <td>0.552000</td>\n",
              "      <td>0.944000</td>\n",
              "      <td>1.418440</td>\n",
              "      <td>1</td>\n",
              "      <td>0.040000</td>\n",
              "    </tr>\n",
              "    <tr>\n",
              "      <th>spreading</th>\n",
              "      <td>NaN</td>\n",
              "      <td>NaN</td>\n",
              "      <td>NaN</td>\n",
              "      <td>NaN</td>\n",
              "      <td>NaN</td>\n",
              "      <td>NaN</td>\n",
              "      <td>NaN</td>\n",
              "      <td>NaN</td>\n",
              "      <td>0</td>\n",
              "      <td>0.000000</td>\n",
              "    </tr>\n",
              "  </tbody>\n",
              "</table>\n",
              "</div>"
            ],
            "text/plain": [
              "                                  invasive_strands  ...       pct\n",
              "Dose (nM) Label                                     ...          \n",
              "0         dead                            0.000000  ...  0.187500\n",
              "          invasive_collective             4.777778  ...  0.562500\n",
              "          invasive_proliferative          7.000000  ...  0.125000\n",
              "          noninvasive                     0.000000  ...  0.062500\n",
              "          spreading                       0.000000  ...  0.062500\n",
              "100       dead                            0.000000  ...  0.066667\n",
              "          invasive_collective             5.166667  ...  0.400000\n",
              "          invasive_proliferative          3.000000  ...  0.133333\n",
              "          noninvasive                     0.000000  ...  0.400000\n",
              "          spreading                            NaN  ...  0.000000\n",
              "250       dead                            0.000000  ...  0.142857\n",
              "          invasive_collective             4.400000  ...  0.357143\n",
              "          invasive_proliferative          4.000000  ...  0.142857\n",
              "          noninvasive                     0.000000  ...  0.357143\n",
              "          spreading                            NaN  ...  0.000000\n",
              "500       dead                            0.000000  ...  0.272727\n",
              "          invasive_collective             2.800000  ...  0.454545\n",
              "          invasive_proliferative          2.000000  ...  0.090909\n",
              "          noninvasive                     0.000000  ...  0.181818\n",
              "          spreading                            NaN  ...  0.000000\n",
              "1000      dead                            0.000000  ...  0.769231\n",
              "          invasive_collective                  NaN  ...  0.000000\n",
              "          invasive_proliferative               NaN  ...  0.000000\n",
              "          noninvasive                     0.333333  ...  0.230769\n",
              "          spreading                            NaN  ...  0.000000\n",
              "5000      dead                            0.000000  ...  0.960000\n",
              "          invasive_collective                  NaN  ...  0.000000\n",
              "          invasive_proliferative               NaN  ...  0.000000\n",
              "          noninvasive                     0.000000  ...  0.040000\n",
              "          spreading                            NaN  ...  0.000000\n",
              "\n",
              "[30 rows x 10 columns]"
            ]
          },
          "metadata": {
            "tags": []
          },
          "execution_count": 33
        }
      ]
    },
    {
      "cell_type": "code",
      "metadata": {
        "id": "iV7xPlf9FDta",
        "outputId": "f5f7f0dc-6aed-498e-b289-cee82faabc84",
        "colab": {
          "resources": {
            "http://localhost:8080/nbextensions/google.colab/files.js": {
              "data": "Ly8gQ29weXJpZ2h0IDIwMTcgR29vZ2xlIExMQwovLwovLyBMaWNlbnNlZCB1bmRlciB0aGUgQXBhY2hlIExpY2Vuc2UsIFZlcnNpb24gMi4wICh0aGUgIkxpY2Vuc2UiKTsKLy8geW91IG1heSBub3QgdXNlIHRoaXMgZmlsZSBleGNlcHQgaW4gY29tcGxpYW5jZSB3aXRoIHRoZSBMaWNlbnNlLgovLyBZb3UgbWF5IG9idGFpbiBhIGNvcHkgb2YgdGhlIExpY2Vuc2UgYXQKLy8KLy8gICAgICBodHRwOi8vd3d3LmFwYWNoZS5vcmcvbGljZW5zZXMvTElDRU5TRS0yLjAKLy8KLy8gVW5sZXNzIHJlcXVpcmVkIGJ5IGFwcGxpY2FibGUgbGF3IG9yIGFncmVlZCB0byBpbiB3cml0aW5nLCBzb2Z0d2FyZQovLyBkaXN0cmlidXRlZCB1bmRlciB0aGUgTGljZW5zZSBpcyBkaXN0cmlidXRlZCBvbiBhbiAiQVMgSVMiIEJBU0lTLAovLyBXSVRIT1VUIFdBUlJBTlRJRVMgT1IgQ09ORElUSU9OUyBPRiBBTlkgS0lORCwgZWl0aGVyIGV4cHJlc3Mgb3IgaW1wbGllZC4KLy8gU2VlIHRoZSBMaWNlbnNlIGZvciB0aGUgc3BlY2lmaWMgbGFuZ3VhZ2UgZ292ZXJuaW5nIHBlcm1pc3Npb25zIGFuZAovLyBsaW1pdGF0aW9ucyB1bmRlciB0aGUgTGljZW5zZS4KCi8qKgogKiBAZmlsZW92ZXJ2aWV3IEhlbHBlcnMgZm9yIGdvb2dsZS5jb2xhYiBQeXRob24gbW9kdWxlLgogKi8KKGZ1bmN0aW9uKHNjb3BlKSB7CmZ1bmN0aW9uIHNwYW4odGV4dCwgc3R5bGVBdHRyaWJ1dGVzID0ge30pIHsKICBjb25zdCBlbGVtZW50ID0gZG9jdW1lbnQuY3JlYXRlRWxlbWVudCgnc3BhbicpOwogIGVsZW1lbnQudGV4dENvbnRlbnQgPSB0ZXh0OwogIGZvciAoY29uc3Qga2V5IG9mIE9iamVjdC5rZXlzKHN0eWxlQXR0cmlidXRlcykpIHsKICAgIGVsZW1lbnQuc3R5bGVba2V5XSA9IHN0eWxlQXR0cmlidXRlc1trZXldOwogIH0KICByZXR1cm4gZWxlbWVudDsKfQoKLy8gTWF4IG51bWJlciBvZiBieXRlcyB3aGljaCB3aWxsIGJlIHVwbG9hZGVkIGF0IGEgdGltZS4KY29uc3QgTUFYX1BBWUxPQURfU0laRSA9IDEwMCAqIDEwMjQ7CgpmdW5jdGlvbiBfdXBsb2FkRmlsZXMoaW5wdXRJZCwgb3V0cHV0SWQpIHsKICBjb25zdCBzdGVwcyA9IHVwbG9hZEZpbGVzU3RlcChpbnB1dElkLCBvdXRwdXRJZCk7CiAgY29uc3Qgb3V0cHV0RWxlbWVudCA9IGRvY3VtZW50LmdldEVsZW1lbnRCeUlkKG91dHB1dElkKTsKICAvLyBDYWNoZSBzdGVwcyBvbiB0aGUgb3V0cHV0RWxlbWVudCB0byBtYWtlIGl0IGF2YWlsYWJsZSBmb3IgdGhlIG5leHQgY2FsbAogIC8vIHRvIHVwbG9hZEZpbGVzQ29udGludWUgZnJvbSBQeXRob24uCiAgb3V0cHV0RWxlbWVudC5zdGVwcyA9IHN0ZXBzOwoKICByZXR1cm4gX3VwbG9hZEZpbGVzQ29udGludWUob3V0cHV0SWQpOwp9CgovLyBUaGlzIGlzIHJvdWdobHkgYW4gYXN5bmMgZ2VuZXJhdG9yIChub3Qgc3VwcG9ydGVkIGluIHRoZSBicm93c2VyIHlldCksCi8vIHdoZXJlIHRoZXJlIGFyZSBtdWx0aXBsZSBhc3luY2hyb25vdXMgc3RlcHMgYW5kIHRoZSBQeXRob24gc2lkZSBpcyBnb2luZwovLyB0byBwb2xsIGZvciBjb21wbGV0aW9uIG9mIGVhY2ggc3RlcC4KLy8gVGhpcyB1c2VzIGEgUHJvbWlzZSB0byBibG9jayB0aGUgcHl0aG9uIHNpZGUgb24gY29tcGxldGlvbiBvZiBlYWNoIHN0ZXAsCi8vIHRoZW4gcGFzc2VzIHRoZSByZXN1bHQgb2YgdGhlIHByZXZpb3VzIHN0ZXAgYXMgdGhlIGlucHV0IHRvIHRoZSBuZXh0IHN0ZXAuCmZ1bmN0aW9uIF91cGxvYWRGaWxlc0NvbnRpbnVlKG91dHB1dElkKSB7CiAgY29uc3Qgb3V0cHV0RWxlbWVudCA9IGRvY3VtZW50LmdldEVsZW1lbnRCeUlkKG91dHB1dElkKTsKICBjb25zdCBzdGVwcyA9IG91dHB1dEVsZW1lbnQuc3RlcHM7CgogIGNvbnN0IG5leHQgPSBzdGVwcy5uZXh0KG91dHB1dEVsZW1lbnQubGFzdFByb21pc2VWYWx1ZSk7CiAgcmV0dXJuIFByb21pc2UucmVzb2x2ZShuZXh0LnZhbHVlLnByb21pc2UpLnRoZW4oKHZhbHVlKSA9PiB7CiAgICAvLyBDYWNoZSB0aGUgbGFzdCBwcm9taXNlIHZhbHVlIHRvIG1ha2UgaXQgYXZhaWxhYmxlIHRvIHRoZSBuZXh0CiAgICAvLyBzdGVwIG9mIHRoZSBnZW5lcmF0b3IuCiAgICBvdXRwdXRFbGVtZW50Lmxhc3RQcm9taXNlVmFsdWUgPSB2YWx1ZTsKICAgIHJldHVybiBuZXh0LnZhbHVlLnJlc3BvbnNlOwogIH0pOwp9CgovKioKICogR2VuZXJhdG9yIGZ1bmN0aW9uIHdoaWNoIGlzIGNhbGxlZCBiZXR3ZWVuIGVhY2ggYXN5bmMgc3RlcCBvZiB0aGUgdXBsb2FkCiAqIHByb2Nlc3MuCiAqIEBwYXJhbSB7c3RyaW5nfSBpbnB1dElkIEVsZW1lbnQgSUQgb2YgdGhlIGlucHV0IGZpbGUgcGlja2VyIGVsZW1lbnQuCiAqIEBwYXJhbSB7c3RyaW5nfSBvdXRwdXRJZCBFbGVtZW50IElEIG9mIHRoZSBvdXRwdXQgZGlzcGxheS4KICogQHJldHVybiB7IUl0ZXJhYmxlPCFPYmplY3Q+fSBJdGVyYWJsZSBvZiBuZXh0IHN0ZXBzLgogKi8KZnVuY3Rpb24qIHVwbG9hZEZpbGVzU3RlcChpbnB1dElkLCBvdXRwdXRJZCkgewogIGNvbnN0IGlucHV0RWxlbWVudCA9IGRvY3VtZW50LmdldEVsZW1lbnRCeUlkKGlucHV0SWQpOwogIGlucHV0RWxlbWVudC5kaXNhYmxlZCA9IGZhbHNlOwoKICBjb25zdCBvdXRwdXRFbGVtZW50ID0gZG9jdW1lbnQuZ2V0RWxlbWVudEJ5SWQob3V0cHV0SWQpOwogIG91dHB1dEVsZW1lbnQuaW5uZXJIVE1MID0gJyc7CgogIGNvbnN0IHBpY2tlZFByb21pc2UgPSBuZXcgUHJvbWlzZSgocmVzb2x2ZSkgPT4gewogICAgaW5wdXRFbGVtZW50LmFkZEV2ZW50TGlzdGVuZXIoJ2NoYW5nZScsIChlKSA9PiB7CiAgICAgIHJlc29sdmUoZS50YXJnZXQuZmlsZXMpOwogICAgfSk7CiAgfSk7CgogIGNvbnN0IGNhbmNlbCA9IGRvY3VtZW50LmNyZWF0ZUVsZW1lbnQoJ2J1dHRvbicpOwogIGlucHV0RWxlbWVudC5wYXJlbnRFbGVtZW50LmFwcGVuZENoaWxkKGNhbmNlbCk7CiAgY2FuY2VsLnRleHRDb250ZW50ID0gJ0NhbmNlbCB1cGxvYWQnOwogIGNvbnN0IGNhbmNlbFByb21pc2UgPSBuZXcgUHJvbWlzZSgocmVzb2x2ZSkgPT4gewogICAgY2FuY2VsLm9uY2xpY2sgPSAoKSA9PiB7CiAgICAgIHJlc29sdmUobnVsbCk7CiAgICB9OwogIH0pOwoKICAvLyBXYWl0IGZvciB0aGUgdXNlciB0byBwaWNrIHRoZSBmaWxlcy4KICBjb25zdCBmaWxlcyA9IHlpZWxkIHsKICAgIHByb21pc2U6IFByb21pc2UucmFjZShbcGlja2VkUHJvbWlzZSwgY2FuY2VsUHJvbWlzZV0pLAogICAgcmVzcG9uc2U6IHsKICAgICAgYWN0aW9uOiAnc3RhcnRpbmcnLAogICAgfQogIH07CgogIGNhbmNlbC5yZW1vdmUoKTsKCiAgLy8gRGlzYWJsZSB0aGUgaW5wdXQgZWxlbWVudCBzaW5jZSBmdXJ0aGVyIHBpY2tzIGFyZSBub3QgYWxsb3dlZC4KICBpbnB1dEVsZW1lbnQuZGlzYWJsZWQgPSB0cnVlOwoKICBpZiAoIWZpbGVzKSB7CiAgICByZXR1cm4gewogICAgICByZXNwb25zZTogewogICAgICAgIGFjdGlvbjogJ2NvbXBsZXRlJywKICAgICAgfQogICAgfTsKICB9CgogIGZvciAoY29uc3QgZmlsZSBvZiBmaWxlcykgewogICAgY29uc3QgbGkgPSBkb2N1bWVudC5jcmVhdGVFbGVtZW50KCdsaScpOwogICAgbGkuYXBwZW5kKHNwYW4oZmlsZS5uYW1lLCB7Zm9udFdlaWdodDogJ2JvbGQnfSkpOwogICAgbGkuYXBwZW5kKHNwYW4oCiAgICAgICAgYCgke2ZpbGUudHlwZSB8fCAnbi9hJ30pIC0gJHtmaWxlLnNpemV9IGJ5dGVzLCBgICsKICAgICAgICBgbGFzdCBtb2RpZmllZDogJHsKICAgICAgICAgICAgZmlsZS5sYXN0TW9kaWZpZWREYXRlID8gZmlsZS5sYXN0TW9kaWZpZWREYXRlLnRvTG9jYWxlRGF0ZVN0cmluZygpIDoKICAgICAgICAgICAgICAgICAgICAgICAgICAgICAgICAgICAgJ24vYSd9IC0gYCkpOwogICAgY29uc3QgcGVyY2VudCA9IHNwYW4oJzAlIGRvbmUnKTsKICAgIGxpLmFwcGVuZENoaWxkKHBlcmNlbnQpOwoKICAgIG91dHB1dEVsZW1lbnQuYXBwZW5kQ2hpbGQobGkpOwoKICAgIGNvbnN0IGZpbGVEYXRhUHJvbWlzZSA9IG5ldyBQcm9taXNlKChyZXNvbHZlKSA9PiB7CiAgICAgIGNvbnN0IHJlYWRlciA9IG5ldyBGaWxlUmVhZGVyKCk7CiAgICAgIHJlYWRlci5vbmxvYWQgPSAoZSkgPT4gewogICAgICAgIHJlc29sdmUoZS50YXJnZXQucmVzdWx0KTsKICAgICAgfTsKICAgICAgcmVhZGVyLnJlYWRBc0FycmF5QnVmZmVyKGZpbGUpOwogICAgfSk7CiAgICAvLyBXYWl0IGZvciB0aGUgZGF0YSB0byBiZSByZWFkeS4KICAgIGxldCBmaWxlRGF0YSA9IHlpZWxkIHsKICAgICAgcHJvbWlzZTogZmlsZURhdGFQcm9taXNlLAogICAgICByZXNwb25zZTogewogICAgICAgIGFjdGlvbjogJ2NvbnRpbnVlJywKICAgICAgfQogICAgfTsKCiAgICAvLyBVc2UgYSBjaHVua2VkIHNlbmRpbmcgdG8gYXZvaWQgbWVzc2FnZSBzaXplIGxpbWl0cy4gU2VlIGIvNjIxMTU2NjAuCiAgICBsZXQgcG9zaXRpb24gPSAwOwogICAgd2hpbGUgKHBvc2l0aW9uIDwgZmlsZURhdGEuYnl0ZUxlbmd0aCkgewogICAgICBjb25zdCBsZW5ndGggPSBNYXRoLm1pbihmaWxlRGF0YS5ieXRlTGVuZ3RoIC0gcG9zaXRpb24sIE1BWF9QQVlMT0FEX1NJWkUpOwogICAgICBjb25zdCBjaHVuayA9IG5ldyBVaW50OEFycmF5KGZpbGVEYXRhLCBwb3NpdGlvbiwgbGVuZ3RoKTsKICAgICAgcG9zaXRpb24gKz0gbGVuZ3RoOwoKICAgICAgY29uc3QgYmFzZTY0ID0gYnRvYShTdHJpbmcuZnJvbUNoYXJDb2RlLmFwcGx5KG51bGwsIGNodW5rKSk7CiAgICAgIHlpZWxkIHsKICAgICAgICByZXNwb25zZTogewogICAgICAgICAgYWN0aW9uOiAnYXBwZW5kJywKICAgICAgICAgIGZpbGU6IGZpbGUubmFtZSwKICAgICAgICAgIGRhdGE6IGJhc2U2NCwKICAgICAgICB9LAogICAgICB9OwogICAgICBwZXJjZW50LnRleHRDb250ZW50ID0KICAgICAgICAgIGAke01hdGgucm91bmQoKHBvc2l0aW9uIC8gZmlsZURhdGEuYnl0ZUxlbmd0aCkgKiAxMDApfSUgZG9uZWA7CiAgICB9CiAgfQoKICAvLyBBbGwgZG9uZS4KICB5aWVsZCB7CiAgICByZXNwb25zZTogewogICAgICBhY3Rpb246ICdjb21wbGV0ZScsCiAgICB9CiAgfTsKfQoKc2NvcGUuZ29vZ2xlID0gc2NvcGUuZ29vZ2xlIHx8IHt9OwpzY29wZS5nb29nbGUuY29sYWIgPSBzY29wZS5nb29nbGUuY29sYWIgfHwge307CnNjb3BlLmdvb2dsZS5jb2xhYi5fZmlsZXMgPSB7CiAgX3VwbG9hZEZpbGVzLAogIF91cGxvYWRGaWxlc0NvbnRpbnVlLAp9Owp9KShzZWxmKTsK",
              "ok": true,
              "headers": [
                [
                  "content-type",
                  "application/javascript"
                ]
              ],
              "status": 200,
              "status_text": ""
            }
          },
          "base_uri": "https://localhost:8080/",
          "height": 72
        }
      },
      "source": [
        "files.upload()\n",
        "ehop_dose_rep = pd.read_csv('ehop_dose_rep.csv')\n"
      ],
      "execution_count": null,
      "outputs": [
        {
          "output_type": "display_data",
          "data": {
            "text/html": [
              "\n",
              "     <input type=\"file\" id=\"files-6376ee82-3cc3-40bd-88b8-76c409c40ee5\" name=\"files[]\" multiple disabled\n",
              "        style=\"border:none\" />\n",
              "     <output id=\"result-6376ee82-3cc3-40bd-88b8-76c409c40ee5\">\n",
              "      Upload widget is only available when the cell has been executed in the\n",
              "      current browser session. Please rerun this cell to enable.\n",
              "      </output>\n",
              "      <script src=\"/nbextensions/google.colab/files.js\"></script> "
            ],
            "text/plain": [
              "<IPython.core.display.HTML object>"
            ]
          },
          "metadata": {
            "tags": []
          }
        },
        {
          "output_type": "stream",
          "text": [
            "Saving ehop_dose_rep.csv to ehop_dose_rep (1).csv\n"
          ],
          "name": "stdout"
        }
      ]
    },
    {
      "cell_type": "code",
      "metadata": {
        "id": "Q_dPcNRDFRRC",
        "outputId": "bbb7c489-fd87-44bd-a913-f8109cac84b5",
        "colab": {
          "base_uri": "https://localhost:8080/",
          "height": 241
        }
      },
      "source": [
        "ehop_dose_rep.head()\n"
      ],
      "execution_count": null,
      "outputs": [
        {
          "output_type": "execute_result",
          "data": {
            "text/html": [
              "<div>\n",
              "<style scoped>\n",
              "    .dataframe tbody tr th:only-of-type {\n",
              "        vertical-align: middle;\n",
              "    }\n",
              "\n",
              "    .dataframe tbody tr th {\n",
              "        vertical-align: top;\n",
              "    }\n",
              "\n",
              "    .dataframe thead th {\n",
              "        text-align: right;\n",
              "    }\n",
              "</style>\n",
              "<table border=\"1\" class=\"dataframe\">\n",
              "  <thead>\n",
              "    <tr style=\"text-align: right;\">\n",
              "      <th></th>\n",
              "      <th>Dose (nM)</th>\n",
              "      <th>Label</th>\n",
              "      <th>invasive_strands</th>\n",
              "      <th>peripheral_cells</th>\n",
              "      <th>Area</th>\n",
              "      <th>Circularity</th>\n",
              "      <th>Unnamed: 12</th>\n",
              "      <th>Unnamed: 13</th>\n",
              "      <th>Unnamed: 14</th>\n",
              "      <th>inverse_circularity</th>\n",
              "      <th>count</th>\n",
              "      <th>pct</th>\n",
              "    </tr>\n",
              "  </thead>\n",
              "  <tbody>\n",
              "    <tr>\n",
              "      <th>0</th>\n",
              "      <td>0</td>\n",
              "      <td>dead</td>\n",
              "      <td>0.000000</td>\n",
              "      <td>0.0</td>\n",
              "      <td>80257.654000</td>\n",
              "      <td>0.802333</td>\n",
              "      <td>1.533667</td>\n",
              "      <td>0.656000</td>\n",
              "      <td>0.952000</td>\n",
              "      <td>1.249007</td>\n",
              "      <td>3</td>\n",
              "      <td>0.1875</td>\n",
              "    </tr>\n",
              "    <tr>\n",
              "      <th>1</th>\n",
              "      <td>0</td>\n",
              "      <td>invasive_collective</td>\n",
              "      <td>4.777778</td>\n",
              "      <td>0.0</td>\n",
              "      <td>101202.727111</td>\n",
              "      <td>0.387000</td>\n",
              "      <td>1.422000</td>\n",
              "      <td>0.730222</td>\n",
              "      <td>0.705222</td>\n",
              "      <td>3.915049</td>\n",
              "      <td>9</td>\n",
              "      <td>0.5625</td>\n",
              "    </tr>\n",
              "    <tr>\n",
              "      <th>2</th>\n",
              "      <td>0</td>\n",
              "      <td>invasive_proliferative</td>\n",
              "      <td>7.000000</td>\n",
              "      <td>0.0</td>\n",
              "      <td>115554.710000</td>\n",
              "      <td>0.346500</td>\n",
              "      <td>1.698500</td>\n",
              "      <td>0.589000</td>\n",
              "      <td>0.728000</td>\n",
              "      <td>2.889185</td>\n",
              "      <td>2</td>\n",
              "      <td>0.1250</td>\n",
              "    </tr>\n",
              "    <tr>\n",
              "      <th>3</th>\n",
              "      <td>0</td>\n",
              "      <td>noninvasive</td>\n",
              "      <td>0.000000</td>\n",
              "      <td>0.0</td>\n",
              "      <td>53440.726000</td>\n",
              "      <td>0.671000</td>\n",
              "      <td>1.169000</td>\n",
              "      <td>0.856000</td>\n",
              "      <td>0.918000</td>\n",
              "      <td>1.490313</td>\n",
              "      <td>1</td>\n",
              "      <td>0.0625</td>\n",
              "    </tr>\n",
              "    <tr>\n",
              "      <th>4</th>\n",
              "      <td>0</td>\n",
              "      <td>spreading</td>\n",
              "      <td>0.000000</td>\n",
              "      <td>0.0</td>\n",
              "      <td>51425.942000</td>\n",
              "      <td>0.568000</td>\n",
              "      <td>1.423000</td>\n",
              "      <td>0.703000</td>\n",
              "      <td>0.852000</td>\n",
              "      <td>1.760563</td>\n",
              "      <td>1</td>\n",
              "      <td>0.0625</td>\n",
              "    </tr>\n",
              "  </tbody>\n",
              "</table>\n",
              "</div>"
            ],
            "text/plain": [
              "   Dose (nM)                   Label  ...  count     pct\n",
              "0          0                    dead  ...      3  0.1875\n",
              "1          0     invasive_collective  ...      9  0.5625\n",
              "2          0  invasive_proliferative  ...      2  0.1250\n",
              "3          0             noninvasive  ...      1  0.0625\n",
              "4          0               spreading  ...      1  0.0625\n",
              "\n",
              "[5 rows x 12 columns]"
            ]
          },
          "metadata": {
            "tags": []
          },
          "execution_count": 35
        }
      ]
    },
    {
      "cell_type": "code",
      "metadata": {
        "id": "999chPEyFeJ9",
        "outputId": "31be24b9-0cee-4812-c510-8b0e44d7287c",
        "colab": {
          "base_uri": "https://localhost:8080/",
          "height": 302
        }
      },
      "source": [
        "pct_label = sns.scatterplot(x = 'Dose (nM)', y = 'pct', data = ehop_dose_rep, hue = 'Label', legend=False) \n",
        "sns.lineplot(x = 'Dose (nM)', y = 'pct', data = ehop_dose_rep, hue = 'Label')\n",
        "pct_label.set(xscale='symlog')\n",
        "pct_label.legend(loc='right', bbox_to_anchor=(1.6, 0.8), ncol=1)\n"
      ],
      "execution_count": 59,
      "outputs": [
        {
          "output_type": "execute_result",
          "data": {
            "text/plain": [
              "<matplotlib.legend.Legend at 0x7f295a853908>"
            ]
          },
          "metadata": {
            "tags": []
          },
          "execution_count": 59
        },
        {
          "output_type": "display_data",
          "data": {
            "image/png": "[encoded data removed]",
            "text/plain": [
              "<Figure size 432x288 with 1 Axes>"
            ]
          },
          "metadata": {
            "tags": [],
            "needs_background": "light"
          }
        }
      ]
    },
    {
      "cell_type": "code",
      "metadata": {
        "id": "262UN6G_F5lT",
        "outputId": "4aa47cf3-52f4-4577-c090-26c4d4b0f7c6",
        "colab": {
          "base_uri": "https://localhost:8080/",
          "height": 303
        }
      },
      "source": [
        "#Assess Relationships between parameters in individual labels between treatments: \n",
        "area_label = sns.scatterplot(x = 'Dose (nM)', y = 'Area', data = ehop_dose_rep, hue = 'Label', legend=False)\n",
        "sns.lineplot(x = 'Dose (nM)', y = 'Area', data = ehop_dose_rep, hue = 'Label')\n",
        "area_label.set(xscale='symlog')\n",
        "area_label.legend(loc='right', bbox_to_anchor=(1.6, 0.8), ncol=1)"
      ],
      "execution_count": null,
      "outputs": [
        {
          "output_type": "execute_result",
          "data": {
            "text/plain": [
              "<matplotlib.legend.Legend at 0x7f2962a51240>"
            ]
          },
          "metadata": {
            "tags": []
          },
          "execution_count": 38
        },
        {
          "output_type": "display_data",
          "data": {
            "image/png": "[encoded data removed]",
            "text/plain": [
              "<Figure size 432x288 with 1 Axes>"
            ]
          },
          "metadata": {
            "tags": [],
            "needs_background": "light"
          }
        }
      ]
    },
    {
      "cell_type": "code",
      "metadata": {
        "id": "fxYDOlSSGGs2",
        "outputId": "10df63e8-17d8-4f14-c4b2-17dec88353dd",
        "colab": {
          "base_uri": "https://localhost:8080/",
          "height": 302
        }
      },
      "source": [
        "invasiveness_label = sns.scatterplot(x = 'Dose (nM)', y = 'inverse_circularity', data = ehop_dose_rep, hue = 'Label', legend=False)\n",
        "sns.lineplot(x = 'Dose (nM)', y = 'inverse_circularity', data = ehop_dose_rep, hue = 'Label')\n",
        "invasiveness_label.set(xscale='symlog')\n",
        "invasiveness_label.legend(loc='right', bbox_to_anchor=(1.6, 0.8), ncol=1)"
      ],
      "execution_count": null,
      "outputs": [
        {
          "output_type": "execute_result",
          "data": {
            "text/plain": [
              "<matplotlib.legend.Legend at 0x7f296282b198>"
            ]
          },
          "metadata": {
            "tags": []
          },
          "execution_count": 43
        },
        {
          "output_type": "display_data",
          "data": {
            "image/png": "[encoded data removed]",
            "text/plain": [
              "<Figure size 432x288 with 1 Axes>"
            ]
          },
          "metadata": {
            "tags": [],
            "needs_background": "light"
          }
        }
      ]
    },
    {
      "cell_type": "code",
      "metadata": {
        "id": "L4czKl7BG6lw",
        "outputId": "4d02b65a-eafa-41a5-b7b2-84ac695e7db9",
        "colab": {
          "base_uri": "https://localhost:8080/",
          "height": 300
        }
      },
      "source": [
        "IS_label = sns.scatterplot(x = 'Dose (nM)', y = 'invasive_strands', data = ehop_dose_rep, hue = 'Label', legend=False)\n",
        "sns.lineplot(x = 'Dose (nM)', y = 'invasive_strands', data = ehop_dose_rep, hue = 'Label')\n",
        "IS_label.set(xscale='symlog')\n",
        "IS_label.legend(loc='right', bbox_to_anchor=(1.6, 0.8), ncol=1)"
      ],
      "execution_count": null,
      "outputs": [
        {
          "output_type": "execute_result",
          "data": {
            "text/plain": [
              "<matplotlib.legend.Legend at 0x7f296273d5f8>"
            ]
          },
          "metadata": {
            "tags": []
          },
          "execution_count": 44
        },
        {
          "output_type": "display_data",
          "data": {
            "image/png": "[encoded data removed]",
            "text/plain": [
              "<Figure size 432x288 with 1 Axes>"
            ]
          },
          "metadata": {
            "tags": [],
            "needs_background": "light"
          }
        }
      ]
    }
  ]
}